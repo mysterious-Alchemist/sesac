{
  "nbformat": 4,
  "nbformat_minor": 0,
  "metadata": {
    "colab": {
      "name": "Untitled0.ipynb",
      "provenance": [],
      "authorship_tag": "ABX9TyOS8mAAIGb889Vl72iWzfok"
    },
    "kernelspec": {
      "name": "python3",
      "display_name": "Python 3"
    },
    "language_info": {
      "name": "python"
    }
  },
  "cells": [
    {
      "cell_type": "code",
      "execution_count": 3,
      "metadata": {
        "id": "-ZEMFOwsnIWe"
      },
      "outputs": [],
      "source": [
        "d1 = \"the cat sat on my face i hate a cat\"\n",
        "d2 = \"the dog sat on my bed l love a dog\"\n"
      ]
    },
    {
      "cell_type": "code",
      "source": [
        "import numpy as np\n",
        "\n",
        "def tf(t, d):\n",
        "    return d.count(t)/len(d)\n",
        "\n",
        "def idf(t, D):\n",
        "    N = len(D)\n",
        "    n = len([True for d in D if t in d])\n",
        "    return np.log(N/n)\n",
        "\n",
        "def tfidf(t, d, D ):\n",
        "    return tf(t, d) * idf(t, D)\n",
        "\n",
        "def tokenizer(d):\n",
        "    return d.split()    \n",
        "\n",
        "def tfidf_scorer(D):\n",
        "    docs = [tokenizer(d) for d in D]\n",
        "    result = []\n",
        "    for d in docs:\n",
        "        result.append([(t, tfidf(t, d, docs)) for t in d])\n",
        "    return result"
      ],
      "metadata": {
        "id": "RwW-UR5lvNbh"
      },
      "execution_count": 2,
      "outputs": []
    },
    {
      "cell_type": "code",
      "source": [
        "tfidf_scorer([d1, d2])"
      ],
      "metadata": {
        "colab": {
          "base_uri": "https://localhost:8080/"
        },
        "id": "_0wkP6XlyEAM",
        "outputId": "7fb77cec-07a4-408f-904a-c9f89945c054"
      },
      "execution_count": 4,
      "outputs": [
        {
          "output_type": "execute_result",
          "data": {
            "text/plain": [
              "[[('the', 0.0),\n",
              "  ('cat', 0.13862943611198905),\n",
              "  ('sat', 0.0),\n",
              "  ('on', 0.0),\n",
              "  ('my', 0.0),\n",
              "  ('face', 0.06931471805599453),\n",
              "  ('i', 0.06931471805599453),\n",
              "  ('hate', 0.06931471805599453),\n",
              "  ('a', 0.0),\n",
              "  ('cat', 0.13862943611198905)],\n",
              " [('the', 0.0),\n",
              "  ('dog', 0.13862943611198905),\n",
              "  ('sat', 0.0),\n",
              "  ('on', 0.0),\n",
              "  ('my', 0.0),\n",
              "  ('bed', 0.06931471805599453),\n",
              "  ('l', 0.06931471805599453),\n",
              "  ('love', 0.06931471805599453),\n",
              "  ('a', 0.0),\n",
              "  ('dog', 0.13862943611198905)]]"
            ]
          },
          "metadata": {},
          "execution_count": 4
        }
      ]
    },
    {
      "cell_type": "code",
      "source": [
        "from sklearn.feature_extraction.text import CountVectorizer\n",
        "\n",
        "docs = [d1, d2]\n",
        "count_vect = CountVectorizer()\n",
        "countv = count_vect.fit_transform(docs)\n",
        "print(count_vect.vocabulary_)\n",
        "print(countv.toarray())"
      ],
      "metadata": {
        "colab": {
          "base_uri": "https://localhost:8080/"
        },
        "id": "4ieaT2xgZJWS",
        "outputId": "aac6369f-edce-4fa6-93c7-f923b9c76b4e"
      },
      "execution_count": 11,
      "outputs": [
        {
          "output_type": "stream",
          "name": "stdout",
          "text": [
            "{'the': 9, 'cat': 1, 'sat': 8, 'on': 7, 'my': 6, 'face': 3, 'hate': 4, 'dog': 2, 'bed': 0, 'love': 5}\n",
            "[[0 2 0 1 1 0 1 1 1 1]\n",
            " [1 0 2 0 0 1 1 1 1 1]]\n"
          ]
        }
      ]
    },
    {
      "cell_type": "code",
      "source": [
        "from sklearn.feature_extraction.text import TfidfVectorizer\n",
        "\n",
        "tfidf_vect = TfidfVectorizer()\n",
        "tfidfv = tfidf_vect.fit_transform(docs)\n",
        "print(tfidf_vect.vocabulary_)\n",
        "print(tfidfv.toarray())"
      ],
      "metadata": {
        "colab": {
          "base_uri": "https://localhost:8080/"
        },
        "id": "d-dsyN_UZvOL",
        "outputId": "3ba5645a-d29f-4fa9-a4bb-925f360cd800"
      },
      "execution_count": 28,
      "outputs": [
        {
          "output_type": "stream",
          "name": "stdout",
          "text": [
            "{'the': 9, 'cat': 1, 'sat': 8, 'on': 7, 'my': 6, 'face': 3, 'hate': 4, 'dog': 2, 'bed': 0, 'love': 5}\n",
            "[[0.         0.70600557 0.         0.35300279 0.35300279 0.\n",
            "  0.25116439 0.25116439 0.25116439 0.25116439]\n",
            " [0.35300279 0.         0.70600557 0.         0.         0.35300279\n",
            "  0.25116439 0.25116439 0.25116439 0.25116439]]\n"
          ]
        }
      ]
    },
    {
      "cell_type": "code",
      "source": [],
      "metadata": {
        "id": "qehkLv5-aTfL"
      },
      "execution_count": 36,
      "outputs": []
    },
    {
      "cell_type": "code",
      "source": [
        "from gensim.models import TfidfModel\n",
        "from gensim import corpora\n",
        "\n",
        "doc_ls = [d.split() for d in docs]\n",
        "id2word = corpora.Dictionary(doc_ls)\n",
        "bow = [id2word.doc2bow(d) for d in doc_ls]\n",
        "\n",
        "tfidf = TfidfModel(bow)\n"
      ],
      "metadata": {
        "id": "GJc1XgKLbljl"
      },
      "execution_count": 39,
      "outputs": []
    },
    {
      "cell_type": "code",
      "source": [
        "print(tfidf[bow[0]])\n",
        "\n",
        "print(id2word[0])"
      ],
      "metadata": {
        "colab": {
          "base_uri": "https://localhost:8080/"
        },
        "id": "ehNi0czFb-lA",
        "outputId": "0e3c7b21-5dbd-4071-c16b-18f8b50c76ea"
      },
      "execution_count": 43,
      "outputs": [
        {
          "output_type": "stream",
          "name": "stdout",
          "text": [
            "[(1, 0.7559289460184544), (2, 0.3779644730092272), (3, 0.3779644730092272), (4, 0.3779644730092272)]\n",
            "a\n"
          ]
        }
      ]
    }
  ]
}