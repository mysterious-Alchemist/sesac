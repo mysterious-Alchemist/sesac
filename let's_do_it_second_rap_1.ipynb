{
  "nbformat": 4,
  "nbformat_minor": 0,
  "metadata": {
    "colab": {
      "provenance": [],
      "authorship_tag": "ABX9TyPDw+m+ZxqT6kpuXOp9nDwv",
      "include_colab_link": true
    },
    "kernelspec": {
      "name": "python3",
      "display_name": "Python 3"
    },
    "language_info": {
      "name": "python"
    }
  },
  "cells": [
    {
      "cell_type": "markdown",
      "metadata": {
        "id": "view-in-github",
        "colab_type": "text"
      },
      "source": [
        "<a href=\"https://colab.research.google.com/github/mysterious-Alchemist/sesac/blob/main/let's_do_it_second_rap_1.ipynb\" target=\"_parent\"><img src=\"https://colab.research.google.com/assets/colab-badge.svg\" alt=\"Open In Colab\"/></a>"
      ]
    },
    {
      "cell_type": "code",
      "execution_count": null,
      "metadata": {
        "colab": {
          "base_uri": "https://localhost:8080/"
        },
        "id": "_K0FltZcQzdA",
        "outputId": "cfef1493-3826-4d30-f9e0-5a622ba66e97"
      },
      "outputs": [
        {
          "output_type": "stream",
          "name": "stdout",
          "text": [
            "#하나만 출력합니다.\n",
            "Hello Python Programming\n",
            "\n",
            "#여러 개를 출력합니다.\n",
            "10 20 30 40 50\n",
            "안녕하세요 저의 이름은 연금술사입니다.\n",
            "\n",
            "#아무것도 출력하지 않습니다.\n",
            "---확인 전용선---\n",
            "\n",
            "\n",
            "---확인 전용선---\n"
          ]
        }
      ],
      "source": [
        "#기본 출력\n",
        "\n",
        "#하나만 출력합니다.\n",
        "print(\"#하나만 출력합니다.\")\n",
        "print(\"Hello Python Programming\")\n",
        "print()\n",
        "\n",
        "#여러 개를 출력합니다.\n",
        "print(\"#여러 개를 출력합니다.\")\n",
        "print(10, 20, 30, 40, 50)\n",
        "print(\"안녕하세요\", \"저의\", \"이름은\", \"연금술사입니다.\")\n",
        "print()\n",
        "\n",
        "#아무것도 입력하지 않으면 단순하게 줄바꿈합니다.\n",
        "print(\"#아무것도 출력하지 않습니다.\")\n",
        "print(\"---확인 전용선---\")\n",
        "print()\n",
        "print()\n",
        "print(\"---확인 전용선---\")\n"
      ]
    },
    {
      "cell_type": "code",
      "source": [
        "#이스케이프 문자(\\t)로 탭 사용하기\n",
        "\n",
        "print(\"이름\\t나이\\t지역\")\n",
        "print(\"연금술사 25\\t마포구\")\n",
        "print()\n"
      ],
      "metadata": {
        "colab": {
          "base_uri": "https://localhost:8080/"
        },
        "id": "5tcRZguWX13p",
        "outputId": "a99b484f-6db9-4a37-b29c-cedbb870aa29"
      },
      "execution_count": null,
      "outputs": [
        {
          "output_type": "stream",
          "name": "stdout",
          "text": [
            "이름\t나이\t지역\n",
            "연금술사 25\t마포구\n",
            "\n"
          ]
        }
      ]
    },
    {
      "cell_type": "code",
      "source": [
        "#문자 선택 연산자와 결과 출력하기\n",
        "\n",
        "print(\"문자 선택 연산자에 대해 알아볼까요?\")\n",
        "print(\"안녕하세요\"[0])\n",
        "print(\"안녕하세요\"[1])\n",
        "print(\"안녕하세요\"[2])\n",
        "print(\"안녕하세요\"[3])\n",
        "print(\"안녕하세요\"[4])\n",
        "\n",
        "#뒤에서부터 선택하기\n",
        "\n",
        "print(\"문자를 뒤에서부터 선택해 볼까요?\")\n",
        "print(\"안녕하세요\"[-5])\n",
        "print(\"안녕하세요\"[-4])\n",
        "print(\"안녕하세요\"[-3])\n",
        "print(\"안녕하세요\"[-2])\n",
        "print(\"안녕하세요\"[-1])"
      ],
      "metadata": {
        "colab": {
          "base_uri": "https://localhost:8080/"
        },
        "id": "MjEgw_LzbUCY",
        "outputId": "f4b75e92-7d5c-4d3c-d67c-3473899b9621"
      },
      "execution_count": null,
      "outputs": [
        {
          "output_type": "stream",
          "name": "stdout",
          "text": [
            "문자 선택 연산자에 대해 알아볼까요?\n",
            "안\n",
            "녕\n",
            "하\n",
            "세\n",
            "요\n",
            "문자를 뒤에서부터 선택해 볼까요?\n",
            "안\n",
            "녕\n",
            "하\n",
            "세\n",
            "요\n",
            "요\n"
          ]
        }
      ]
    },
    {
      "cell_type": "code",
      "source": [
        "#원의 둘레와 넓이 구하기\n",
        "\n",
        "#변수 선언과 할당\n",
        "pi = 3.14159265\n",
        "r = 10\n",
        "\n",
        "#변수 참조\n",
        "print(\"원주율 = \", pi)\n",
        "print(\"반지름 = \", r)\n",
        "print(\"둘레 = \", 2*pi*r)\n",
        "print(\"넓이 = \", pi*r**2)"
      ],
      "metadata": {
        "colab": {
          "base_uri": "https://localhost:8080/"
        },
        "id": "25CYBZ4Kr91X",
        "outputId": "4acbc70c-84eb-400b-9980-cea5b69be24a"
      },
      "execution_count": null,
      "outputs": [
        {
          "output_type": "stream",
          "name": "stdout",
          "text": [
            "원주율 =  3.14159265\n",
            "반지름 =  10\n",
            "둘레 =  62.831853\n",
            "넓이 =  314.159265\n"
          ]
        }
      ]
    },
    {
      "cell_type": "code",
      "source": [
        "#입력 자료형 확인하기\n",
        "\n",
        "#입력을 받습니다.\n",
        "string = input(\"입력> \")\n",
        "\n",
        "#출력합니다.\n",
        "print(\"자료:\", string)\n",
        "print(\"자료형:\", type(string))"
      ],
      "metadata": {
        "id": "7eKQIM7GYFX6",
        "colab": {
          "base_uri": "https://localhost:8080/"
        },
        "outputId": "2f8b8373-c1c8-4ce2-9423-455f144af1e5"
      },
      "execution_count": null,
      "outputs": [
        {
          "output_type": "stream",
          "name": "stdout",
          "text": [
            "입력> d\n",
            "자료: d\n",
            "자료형: <class 'str'>\n"
          ]
        }
      ]
    },
    {
      "cell_type": "code",
      "source": [
        "#입력받고 더하기\n",
        "\n",
        "#입력을 받습니다.\n",
        "string = input(\"입력> \")\n",
        "\n",
        "#출력합니다\n",
        "string = input(\"입력 + 100 \", string+100)\n",
        "\n"
      ],
      "metadata": {
        "colab": {
          "base_uri": "https://localhost:8080/",
          "height": 250
        },
        "id": "X2JA24jPRRPx",
        "outputId": "bab8039b-e45a-4471-d568-3fee84a2273d"
      },
      "execution_count": null,
      "outputs": [
        {
          "name": "stdout",
          "output_type": "stream",
          "text": [
            "입력> 100\n"
          ]
        },
        {
          "output_type": "error",
          "ename": "TypeError",
          "evalue": "ignored",
          "traceback": [
            "\u001b[0;31m---------------------------------------------------------------------------\u001b[0m",
            "\u001b[0;31mTypeError\u001b[0m                                 Traceback (most recent call last)",
            "\u001b[0;32m<ipython-input-17-14563a9095ed>\u001b[0m in \u001b[0;36m<module>\u001b[0;34m\u001b[0m\n\u001b[1;32m      3\u001b[0m \u001b[0;34m\u001b[0m\u001b[0m\n\u001b[1;32m      4\u001b[0m \u001b[0;31m#출력합니다\u001b[0m\u001b[0;34m\u001b[0m\u001b[0;34m\u001b[0m\u001b[0;34m\u001b[0m\u001b[0m\n\u001b[0;32m----> 5\u001b[0;31m \u001b[0mstring\u001b[0m \u001b[0;34m=\u001b[0m \u001b[0minput\u001b[0m\u001b[0;34m(\u001b[0m\u001b[0;34m\"입력 + 100 \"\u001b[0m\u001b[0;34m,\u001b[0m \u001b[0mstring\u001b[0m\u001b[0;34m+\u001b[0m\u001b[0;34m\"100\"\u001b[0m\u001b[0;34m)\u001b[0m\u001b[0;34m\u001b[0m\u001b[0;34m\u001b[0m\u001b[0m\n\u001b[0m\u001b[1;32m      6\u001b[0m \u001b[0;34m\u001b[0m\u001b[0m\n",
            "\u001b[0;31mTypeError\u001b[0m: raw_input() takes from 1 to 2 positional arguments but 3 were given"
          ]
        }
      ]
    },
    {
      "cell_type": "code",
      "source": [
        "#int()함수 활용하기\n",
        "\n",
        "string_a = input(\"입력A> \")\n",
        "int_a = int(string_a)\n",
        "\n",
        "string_b = input(\"입력B> \")\n",
        "int_b = int(string_b)\n",
        "\n",
        "print(\"문자열 자료:\", int_a + int_b)\n",
        "print(\"문자형:\", type(int_a+ int_b))"
      ],
      "metadata": {
        "colab": {
          "base_uri": "https://localhost:8080/"
        },
        "id": "viRZNtXrRn5j",
        "outputId": "aa11c0b6-454b-40fd-a019-40a225855606"
      },
      "execution_count": null,
      "outputs": [
        {
          "output_type": "stream",
          "name": "stdout",
          "text": [
            "입력A> 37\n",
            "입력B> 23\n",
            "문자열 자료: 60\n",
            "문자형: <class 'int'>\n"
          ]
        }
      ]
    },
    {
      "cell_type": "code",
      "source": [
        "#int()함수와 float() 함수 활용하기\n",
        "\n",
        "output_a = int(\"52\")\n",
        "output_b = float(\"52.723\")\n",
        "\n",
        "print(type(output_a), output_a)\n",
        "print(type(output_b), output_b)\n"
      ],
      "metadata": {
        "colab": {
          "base_uri": "https://localhost:8080/"
        },
        "id": "f-NExqb-SQwd",
        "outputId": "9342c44f-ae00-4afa-8a19-e9bf954902e6"
      },
      "execution_count": null,
      "outputs": [
        {
          "output_type": "stream",
          "name": "stdout",
          "text": [
            "<class 'int'> 52\n",
            "<class 'float'> 52.723\n"
          ]
        }
      ]
    },
    {
      "cell_type": "code",
      "source": [
        "#int()함수와 float()함수 조합하기\n",
        "\n",
        "input_a = float(input(\"첫 번째 숫자> \"))\n",
        "input_b = float(input(\"두 번째 숫자> \"))\n",
        "\n",
        "print(\"덧셈결과\", input_a + input_b)\n",
        "print(\"뺄셈결과\", input_a - input_b)\n",
        "print(\"곱셈결과\", input_a * input_b)\n",
        "print(\"나눗셈결과\", input_a / input_b)\n"
      ],
      "metadata": {
        "colab": {
          "base_uri": "https://localhost:8080/"
        },
        "id": "IT5DS_DYhDDJ",
        "outputId": "6ee8d846-4ff8-4697-9146-1395d6675df5"
      },
      "execution_count": null,
      "outputs": [
        {
          "output_type": "stream",
          "name": "stdout",
          "text": [
            "첫 번째 숫자> 3.14\n",
            "두 번째 숫자> 2.23\n",
            "덧셈결과 5.37\n",
            "뺄셈결과 0.9100000000000001\n",
            "곱셈결과 7.0022\n",
            "나눗셈결과 1.4080717488789238\n"
          ]
        }
      ]
    },
    {
      "cell_type": "code",
      "source": [
        "#str()함수를 사용해 숫자를 문저열로 변환하기\n",
        "\n",
        "output_a = str(\"52\")\n",
        "output_b = str(\"52.723\")\n",
        "\n",
        "print(type(output_a), output_a)\n",
        "print(type(output_b), output_b)\n"
      ],
      "metadata": {
        "colab": {
          "base_uri": "https://localhost:8080/"
        },
        "id": "Myi1FFgOiGkw",
        "outputId": "f8c3226b-a901-40c5-9260-8a8884be29ed"
      },
      "execution_count": null,
      "outputs": [
        {
          "output_type": "stream",
          "name": "stdout",
          "text": [
            "<class 'str'> 52\n",
            "<class 'str'> 52.723\n"
          ]
        }
      ]
    },
    {
      "cell_type": "code",
      "source": [
        "#inch 단위를 cm 단위로 변경하기\n",
        "\n",
        "#숫자를 입력받습니다.\n",
        "raw_input = input(\"inch 단위의 숫자를 입력해주세요.: \")\n",
        "\n",
        "#입력받은 데이터를 숫자 자료형으로 변경하고 cm단위로 변경합니다.\n",
        "inch = int(raw_input)\n",
        "cm = inch * 2.54\n",
        "\n",
        "#출력합니다.\n",
        "print(inch, \"inch는 cm단위로\", cm, \"cm입니다\")\n"
      ],
      "metadata": {
        "colab": {
          "base_uri": "https://localhost:8080/"
        },
        "id": "lEH3p3zPiL18",
        "outputId": "798800f3-13b2-4f37-8ca8-bc69b33dd2e6"
      },
      "execution_count": null,
      "outputs": [
        {
          "output_type": "stream",
          "name": "stdout",
          "text": [
            "inch 단위의 숫자를 입력해주세요.: 3\n",
            "3 inch는 cm단위로 7.62 cm입니다\n"
          ]
        }
      ]
    },
    {
      "cell_type": "code",
      "source": [
        "#format()함수로 숫자를 문자열로 변환하기\n",
        "\n",
        "#format()함수로 숫자를 문자열로 변환하기\n",
        "string_a = \"{}\".format(10)\n",
        "\n",
        "#출력하기\n",
        "print(string_a)\n",
        "print(type(string_a))"
      ],
      "metadata": {
        "colab": {
          "base_uri": "https://localhost:8080/"
        },
        "id": "rB4gpp1kpwu1",
        "outputId": "d57e7074-fb7d-4e11-f1c4-2d2b91b48f50"
      },
      "execution_count": null,
      "outputs": [
        {
          "output_type": "stream",
          "name": "stdout",
          "text": [
            "10\n",
            "<class 'str'>\n"
          ]
        }
      ]
    },
    {
      "cell_type": "code",
      "source": [
        "#format()함수의 다양한 형태\n",
        "\n",
        "#format()함수로 숫자를 문자열로 변환하기\n",
        "format_a = \"{}만원\".format(5000)\n",
        "format_b = \"파이썬 열공해서 첫 연봉 {}만원 만들기\".format(3000)\n",
        "format_c = \"{} {} {}\".format(3000, 4000, 5000)\n",
        "format_d = \"{} {} {}\".format(1, \"문자열\", True)\n",
        "\n",
        "print(format_a)\n",
        "print(format_b)\n",
        "print(format_c)\n",
        "print(format_d)"
      ],
      "metadata": {
        "colab": {
          "base_uri": "https://localhost:8080/"
        },
        "id": "LF7etHM2r2h_",
        "outputId": "41e8df67-4522-4032-e071-f43730e168e5"
      },
      "execution_count": null,
      "outputs": [
        {
          "output_type": "stream",
          "name": "stdout",
          "text": [
            "5000만원\n",
            "파이썬 열공해서 첫 연봉 3000만원 만들기\n",
            "3000 4000 5000\n",
            "1 문자열 True\n"
          ]
        }
      ]
    },
    {
      "cell_type": "code",
      "source": [
        "#정수를 특정 칸에 출력하기\n",
        "\n",
        "#정수\n",
        "output_a = \"{:d}\".format(52)\n",
        "\n",
        "#특정 칸에 출력하기\n",
        "output_b = \"{:5d}\".format(52)\n",
        "output_c = \"{:10d}\".format(52)\n",
        "\n",
        "#빈칸을 0으로 채우기\n",
        "output_d = \"{:05d}\".format(52)\n",
        "output_e = \"{:07d}\".format(-52)\n",
        "#앞에서부터 7칸을 차지, 맨 뒤에 ()를 넣고 나머지를 기호와 0으로 채움 \n",
        "\n",
        "\n",
        "print(\"#기본\")\n",
        "print(output_a)\n",
        "print(\"#특정 칸에 출력하기\")\n",
        "print(output_b)\n",
        "print(output_c)\n",
        "print(\"#빈칸을 0으로 채우기\")\n",
        "print(output_d)\n",
        "print(output_e)\n",
        "\n",
        "\n",
        "\n"
      ],
      "metadata": {
        "colab": {
          "base_uri": "https://localhost:8080/"
        },
        "id": "MK0qe3ftuafw",
        "outputId": "2035a660-695a-4340-a62a-991340811055"
      },
      "execution_count": null,
      "outputs": [
        {
          "output_type": "stream",
          "name": "stdout",
          "text": [
            "#기본\n",
            "52\n",
            "#특정 칸에 출력하기\n",
            "   52\n",
            "        52\n",
            "#빈칸을 0으로 채우기\n",
            "00052\n",
            "-000052\n"
          ]
        }
      ]
    },
    {
      "cell_type": "code",
      "source": [
        "#기호 붙여 출력하기\n",
        "\n",
        "#기호와 함께 출력하기\n",
        "output_f = \"{:+d}\".format(+52)\n",
        "output_g = \"{:-d}\".format(-52)\n",
        "output_h = \"{: d}\".format(52)\n",
        "output_i = \"{: d}\".format(52)\n",
        "\n",
        "print(\"#기호와 함께 출력하기\")\n",
        "print(output_f)\n",
        "print(output_g)\n",
        "print(output_h)\n",
        "print(output_i)\n"
      ],
      "metadata": {
        "colab": {
          "base_uri": "https://localhost:8080/"
        },
        "id": "6OjQTQs1GkZH",
        "outputId": "7b9cb5fd-ebd8-4806-d37b-a9f387c31048"
      },
      "execution_count": null,
      "outputs": [
        {
          "output_type": "stream",
          "name": "stdout",
          "text": [
            "#기호와 함께 출력하기\n",
            "+52\n",
            "-52\n",
            " 52\n",
            " 52\n"
          ]
        }
      ]
    },
    {
      "cell_type": "code",
      "source": [
        "#조합해보기\n",
        "\n",
        "#조합하기\n",
        "output_h = \"{:+5d}\".format(52)\n",
        "output_i = \"{:+5d}\".format(-52)\n",
        "output_j = \"{:=+5d}\".format(52)\n",
        "output_k = \"{:=+5d}\".format(-52)\n",
        "output_l = \"{:+05d}\".format(52)\n",
        "output_m = \"{:+05d}\".format(-52)\n",
        "#=는 기호를 앞으로 밀기\n",
        "\n",
        "\n",
        "print(\"#조합하기\")\n",
        "print(output_h)\n",
        "print(output_i)\n",
        "print(output_j)\n",
        "print(output_k)\n",
        "print(output_l)\n",
        "print(output_m)"
      ],
      "metadata": {
        "colab": {
          "base_uri": "https://localhost:8080/"
        },
        "id": "XlHkOMghhzx0",
        "outputId": "b5d1d88d-08c4-4b46-fb66-276ff533d663"
      },
      "execution_count": null,
      "outputs": [
        {
          "output_type": "stream",
          "name": "stdout",
          "text": [
            "#조합하기\n",
            "  +52\n",
            "  -52\n",
            "+  52\n",
            "-  52\n",
            "+0052\n",
            "-0052\n"
          ]
        }
      ]
    },
    {
      "cell_type": "code",
      "source": [
        "#다양한 형태의 부동 소수점 출력하기\n",
        "\n",
        "output_a = \"{:f}\".format(52.273)\n",
        "output_b = \"{:15f}\".format(52.273) #15칸 만들기\n",
        "output_c = \"{:+15f}\".format(52.273) #15칸에 부호 추가하기\n",
        "output_d = \"{:+015f}\".format(52.273) #15칸에 부호 추가하고 0으로 채우기\n",
        "\n",
        "print(output_a)\n",
        "print(output_b)\n",
        "print(output_c)\n",
        "print(output_d)\n"
      ],
      "metadata": {
        "colab": {
          "base_uri": "https://localhost:8080/"
        },
        "id": "snj8jAPOmqyr",
        "outputId": "8d6560c0-d910-46d8-ba66-d02db1a5fad1"
      },
      "execution_count": null,
      "outputs": [
        {
          "output_type": "stream",
          "name": "stdout",
          "text": [
            "52.273000\n",
            "      52.273000\n",
            "     +52.273000\n",
            "+0000052.273000\n"
          ]
        }
      ]
    },
    {
      "cell_type": "code",
      "source": [
        "#소수점 아래 자릿수 지정하기\n",
        "\n",
        "output_a = \"{:15.3f}\".format(52.273)\n",
        "output_b = \"{:15.2f}\".format(52.273)\n",
        "output_c = \"{:15.1f}\".format(52.273)\n",
        "#15칸을 잡고 소수점 아래 n칸 출력\n",
        "\n",
        "print(output_a)\n",
        "print(output_b)\n",
        "print(output_c)"
      ],
      "metadata": {
        "colab": {
          "base_uri": "https://localhost:8080/"
        },
        "id": "Op8XXNIhnhuz",
        "outputId": "4800d2a9-421a-4536-9d52-d5eba2a53f2c"
      },
      "execution_count": null,
      "outputs": [
        {
          "output_type": "stream",
          "name": "stdout",
          "text": [
            "         52.273\n",
            "          52.27\n",
            "           52.3\n"
          ]
        }
      ]
    },
    {
      "cell_type": "code",
      "source": [
        "#의미 없는 소수점 제거하기\n",
        "\n",
        "output_a = 52.0\n",
        "output_b = \"{:g}\".format(output_a)\n",
        "print(output_a)\n",
        "print(output_b)\n"
      ],
      "metadata": {
        "colab": {
          "base_uri": "https://localhost:8080/"
        },
        "id": "QHKY32TIvG-P",
        "outputId": "b0bd06b1-c9a6-4a2f-ae29-756a6e313c4a"
      },
      "execution_count": null,
      "outputs": [
        {
          "output_type": "stream",
          "name": "stdout",
          "text": [
            "52.0\n",
            "52\n"
          ]
        }
      ]
    },
    {
      "cell_type": "code",
      "source": [
        "#대소문자 바꾸기:upper()와 lower()\n",
        "\n",
        "a = \"Hello\" \n",
        "print(a.upper())\n",
        "print(a.lower())"
      ],
      "metadata": {
        "colab": {
          "base_uri": "https://localhost:8080/"
        },
        "id": "AZHRrQO4w-Ul",
        "outputId": "3de038e7-dad8-4cde-e86e-19bf65df81c6"
      },
      "execution_count": null,
      "outputs": [
        {
          "output_type": "stream",
          "name": "stdout",
          "text": [
            "HELLO\n",
            "hello\n"
          ]
        }
      ]
    },
    {
      "cell_type": "code",
      "source": [
        "#문자열 양옆의 공백 제거하기:strip()\n",
        "\n",
        "input_a = \"\"\"\n",
        "        인녕하세요.\n",
        "문자열의 함수를 알아봅시다.\n",
        "\"\"\"\n",
        "\n",
        "print(input_a)\n",
        "print(input_a.strip())"
      ],
      "metadata": {
        "colab": {
          "base_uri": "https://localhost:8080/"
        },
        "id": "FArk_KAUyZmO",
        "outputId": "76418d0a-6ebb-480a-bf82-49078db98418"
      },
      "execution_count": null,
      "outputs": [
        {
          "output_type": "stream",
          "name": "stdout",
          "text": [
            "\n",
            "        인녕하세요.\n",
            "문자열의 함수를 알아봅시다.\n",
            "\n",
            "인녕하세요.\n",
            "문자열의 함수를 알아봅시다.\n"
          ]
        }
      ]
    },
    {
      "cell_type": "code",
      "source": [
        "#문자열의 구성 파악하기:isOO()\n",
        "\n",
        "print(\"TrainA10\".isalnum())\n",
        "#알파벳과 숫자만으로 구성이 되어있는가\n",
        "\n",
        "print(\"19\".isdigit())\n",
        "#숫자만으로 구성되어있는가\n"
      ],
      "metadata": {
        "colab": {
          "base_uri": "https://localhost:8080/"
        },
        "id": "4HQSPnY84b4B",
        "outputId": "8ad82eba-5473-433c-98c9-41c7a3dfda7d"
      },
      "execution_count": null,
      "outputs": [
        {
          "output_type": "stream",
          "name": "stdout",
          "text": [
            "True\n",
            "True\n"
          ]
        }
      ]
    },
    {
      "cell_type": "code",
      "source": [
        "#문자열 찾기:find()와 rfind()\n",
        "\n",
        "output_a = \"안녕안녕하세요\"\n",
        "\n",
        "print(output_a.find(\"안녕\"))\n",
        "print(output_a.rfind(\"안녕\"))"
      ],
      "metadata": {
        "colab": {
          "base_uri": "https://localhost:8080/"
        },
        "id": "tcd0RTiP948W",
        "outputId": "691bdaf4-aca4-4c58-f3da-6f255f37be14"
      },
      "execution_count": null,
      "outputs": [
        {
          "output_type": "stream",
          "name": "stdout",
          "text": [
            "0\n",
            "2\n"
          ]
        }
      ]
    },
    {
      "cell_type": "code",
      "source": [
        "#문자열과 in 연산자\n",
        "\n",
        "print(\"안녕\" in \"안녕하세요\")\n",
        "\n",
        "print(\"잘자\" in \"안녕하세요\")\n"
      ],
      "metadata": {
        "colab": {
          "base_uri": "https://localhost:8080/"
        },
        "id": "n2MP4w3X-Jh8",
        "outputId": "a28f9bc4-b563-4187-b6e5-591722058668"
      },
      "execution_count": null,
      "outputs": [
        {
          "output_type": "stream",
          "name": "stdout",
          "text": [
            "True\n",
            "False\n"
          ]
        }
      ]
    },
    {
      "cell_type": "code",
      "source": [
        "#문자열 자르기:split()\n",
        "\n",
        "a = \"10 20 30\"\n",
        "\n",
        "print(a)\n",
        "print(a.split(\" \"))"
      ],
      "metadata": {
        "colab": {
          "base_uri": "https://localhost:8080/"
        },
        "id": "s4S5S7Ct-T3n",
        "outputId": "2937170e-7307-4a28-f162-1339e378e34b"
      },
      "execution_count": null,
      "outputs": [
        {
          "output_type": "stream",
          "name": "stdout",
          "text": [
            "10 20 30\n",
            "['10', '20', '30']\n"
          ]
        }
      ]
    },
    {
      "cell_type": "code",
      "source": [
        "#not 연산자 조합하기\n",
        "\n",
        "x = 10\n",
        "under_20 = x < 20 # under_20 = (x < 20)\n",
        "print(\"under_20:\", under_20)\n",
        "print(\"not under_20:\", not under_20)"
      ],
      "metadata": {
        "colab": {
          "base_uri": "https://localhost:8080/"
        },
        "id": "Z_83WTaDc1l1",
        "outputId": "156db82d-066a-48a1-e32f-b8205ffe1cdc"
      },
      "execution_count": null,
      "outputs": [
        {
          "output_type": "stream",
          "name": "stdout",
          "text": [
            "under_20: True\n",
            "not under_20: False\n"
          ]
        }
      ]
    },
    {
      "cell_type": "code",
      "source": [
        "#조건문의 기본 사용\n",
        "\n",
        "#입력을 받습니다.\n",
        "number = input(\"정수입력> \")\n",
        "number = int(number)\n",
        "\n",
        "#양수 조건\n",
        "if number > 0:\n",
        "    print(\"양수입니다.\")\n",
        "\n",
        "#음수 조건\n",
        "if number < 0:\n",
        "    print(\"음수입니다.\")\n",
        "\n",
        "#0 조건\n",
        "if number == 0:\n",
        "    print(\"0입니다.\")\n"
      ],
      "metadata": {
        "colab": {
          "base_uri": "https://localhost:8080/"
        },
        "id": "TpmvNMNfdwLA",
        "outputId": "4815ab8c-52bf-4e78-c8fc-296eb0305e10"
      },
      "execution_count": null,
      "outputs": [
        {
          "output_type": "stream",
          "name": "stdout",
          "text": [
            "정수입력> 3\n",
            "양수입니다.\n"
          ]
        }
      ]
    },
    {
      "cell_type": "code",
      "source": [
        "#날짜/시간 출력하기\n",
        "\n",
        "#날짜 시간과 관련된 기능을 가져옵니다.\n",
        "import datetime\n",
        "\n",
        "#현재 날짜/시간을 구합니다.\n",
        "\n",
        "now = datetime.datetime.now()\n",
        "\n",
        "#출력합니다\n",
        "print(now.year, \"년\")\n",
        "print(now.month, \"월\")\n",
        "print(now.day, \"일\")\n",
        "print(now.hour, \"시\")\n",
        "print(now.minute, \"분\")\n",
        "print(now.second, \"초\")\n"
      ],
      "metadata": {
        "colab": {
          "base_uri": "https://localhost:8080/"
        },
        "id": "HLOsjRtHegg4",
        "outputId": "eff5c3e6-7eaf-4912-ef1d-2ffcfb8882e1"
      },
      "execution_count": null,
      "outputs": [
        {
          "output_type": "stream",
          "name": "stdout",
          "text": [
            "2022 년\n",
            "9 월\n",
            "4 일\n",
            "17 시\n",
            "11 분\n",
            "3 초\n"
          ]
        }
      ]
    },
    {
      "cell_type": "code",
      "source": [
        "#날짜 시간을 한 줄로 출력하기\n",
        "\n",
        "#날짜 시간과 관련된 기능을 가져옵니다.\n",
        "import datetime\n",
        "\n",
        "#현재 날짜/시간을 구합니다.\n",
        "\n",
        "now = datetime.datetime.now()\n",
        "\n",
        "#출력합니다\n",
        "print(\"{}년 {}월 {}일 {}시 {}분 {}초\".format(\n",
        "    now.year,\n",
        "    now.month,\n",
        "    now.day,\n",
        "    now.hour,\n",
        "    now.minute,\n",
        "    now.second,\n",
        "))\n"
      ],
      "metadata": {
        "colab": {
          "base_uri": "https://localhost:8080/"
        },
        "id": "H6jBjzjYfESI",
        "outputId": "07b8da52-e771-4101-9e04-4f7c8f5e4b11"
      },
      "execution_count": null,
      "outputs": [
        {
          "output_type": "stream",
          "name": "stdout",
          "text": [
            "2022년 9월 4일 17시 13분 7초\n"
          ]
        }
      ]
    },
    {
      "cell_type": "code",
      "source": [
        "#오전과 오후를 구분하는 프로그램\n",
        "\n",
        "#날짜 시간과 관련된 기능을 가져옵니다.\n",
        "import datetime\n",
        "\n",
        "#현재 날짜/시간을 구합니다.\n",
        "now = datetime.datetime.now()\n",
        "\n",
        "#오전 구분\n",
        "if now.hour < 12:\n",
        "    print(\"현재 시각은 {}시로 오전입니다.\".format(now.hour))\n",
        "\n",
        "#오후 구분\n",
        "if now.hour >= 12:\n",
        "    print(\"현재 시각은 {}시로 오후입니다.\".format(now.hour))"
      ],
      "metadata": {
        "colab": {
          "base_uri": "https://localhost:8080/"
        },
        "id": "I0LI8QY5ffOY",
        "outputId": "261a5c3e-1d43-4e07-fb99-62e31d02e788"
      },
      "execution_count": null,
      "outputs": [
        {
          "output_type": "stream",
          "name": "stdout",
          "text": [
            "현재 시각은 17시로 오후입니다.\n"
          ]
        }
      ]
    },
    {
      "cell_type": "code",
      "source": [
        "#계절을 구분하는 프로그램\n",
        "\n",
        "#날짜 시간과 관련된 기능을 가져옵니다.\n",
        "import datetime\n",
        "\n",
        "#현재 날짜/시간을 구합니다.\n",
        "now = datetime.datetime.now()\n",
        "\n",
        "#봄 구분\n",
        "if 3 <= now.month <= 5:\n",
        "    print(\"이번 달은 {}월로 봄입니다.\".format( now.month))\n",
        "\n",
        "    \n",
        "#여름 구분\n",
        "if 6 <= now.month <= 8:\n",
        "    print(\"이번 달은 {}월로 여름입니다.\".format( now.month))\n",
        "    \n",
        "#가을 구분\n",
        "if 9 <= now.month <= 11:\n",
        "    print(\"이번 달은 {}월로 가을입니다.\".format( now.month))\n",
        "\n",
        "    \n",
        "#겨울 구분\n",
        "if 12 <= now.month <= 2:\n",
        "    print(\"이번 달은 {}월로 겨울입니다.\".format( now.month))"
      ],
      "metadata": {
        "colab": {
          "base_uri": "https://localhost:8080/"
        },
        "id": "cOR2XAwOgFml",
        "outputId": "57aac97a-689b-4d58-9a7b-6d0c0acbcb78"
      },
      "execution_count": null,
      "outputs": [
        {
          "output_type": "stream",
          "name": "stdout",
          "text": [
            "이번 달은 9월로 가을입니다.\n"
          ]
        }
      ]
    },
    {
      "cell_type": "code",
      "source": [
        "#끝자리로 짝수와 홀수 구분\n",
        "number = input(\"숫자를 입력하세요.> \")\n",
        "\n",
        "#마지막 자리 숫자 추출\n",
        "number_l = number[-1]\n",
        "\n",
        "#정수형으로 변환\n",
        "number_li = int(number_l)\n",
        "\n",
        "#짝수인 경우\n",
        "if number_li % 2 == 0:\n",
        "    print(\"짝수입니다.\")\n",
        "\n",
        "#홀수인 경우\n",
        "else:\n",
        "    print(\"홀수입니다.8\")    "
      ],
      "metadata": {
        "colab": {
          "base_uri": "https://localhost:8080/"
        },
        "id": "ir-52sXjgvOu",
        "outputId": "740e5717-720c-42c6-c165-7b79f890b02f"
      },
      "execution_count": null,
      "outputs": [
        {
          "output_type": "stream",
          "name": "stdout",
          "text": [
            "숫자를 입력하세요> 300\n",
            "짝수입니다\n"
          ]
        }
      ]
    },
    {
      "cell_type": "code",
      "source": [
        "#in 문자열 연산자를 활용해서 짝수와 홀수 구분\n",
        "number = input(\"숫자를 입력하세요.> \")\n",
        "\n",
        "#마지막 자리 숫자 추출\n",
        "number_l = number[-1]\n",
        "\n",
        "#작수 조건\n",
        "if number_l in \"02460\":\n",
        "    print(\"짝수입니다.\")\n",
        "\n",
        "#홀수 조건\n",
        "if number_l in \"13579\":\n",
        "    print(\"홀수입니다.\")"
      ],
      "metadata": {
        "colab": {
          "base_uri": "https://localhost:8080/"
        },
        "id": "VJcU0tt_nsyH",
        "outputId": "0c7c700e-f4b5-416c-e1f2-575741b5a77b"
      },
      "execution_count": null,
      "outputs": [
        {
          "output_type": "stream",
          "name": "stdout",
          "text": [
            "숫자를 입력하세요.> 83759823754987\n",
            "홀수입니다.\n"
          ]
        }
      ]
    },
    {
      "cell_type": "code",
      "source": [
        "#계절 구하기\n",
        "\n",
        "#날짜 시간과 관련된 기능을 가져옵니다.\n",
        "import datetime\n",
        "\n",
        "#현재 날짜/시간을 구하고\n",
        "#쉽게 사용할 수 있게 월을 변수에 저장합니다.\n",
        "now = datetime.datetime.now()\n",
        "month = now.month\n",
        "\n",
        "if 3 <= month <= 5:\n",
        "    print(\"이번 달은 {}월로 봄입니다.\".format(month))\n",
        "elif 6 <= month <= 8:\n",
        "    print(\"이번 달은 {}월로 여름입니다.\".format(month))   \n",
        "elif 9 <= month <= 11:\n",
        "    print(\"이번 달은 {}월로 가을입니다.\".format(month))   \n",
        "else:\n",
        "    print(\"이번 달은 {}월로 가을입니다.\".format(month))   \n"
      ],
      "metadata": {
        "colab": {
          "base_uri": "https://localhost:8080/"
        },
        "id": "__yngjaeommS",
        "outputId": "5f85821a-6bfd-4ba7-828f-43f42d765d48"
      },
      "execution_count": null,
      "outputs": [
        {
          "output_type": "stream",
          "name": "stdout",
          "text": [
            "이번 달은 9월로 가을입니다.\n"
          ]
        }
      ]
    },
    {
      "cell_type": "code",
      "source": [
        "#유머를 조건문으로 구현하기\n",
        "\n",
        "#변수를 선언합니다\n",
        "score = float(input(\"학점을 입력하세요.> \"))\n",
        "\n",
        "#조건문을 적용합니다\n",
        "if score == 4.5:\n",
        "    print(\"신\")\n",
        "elif 4.2<= score < 4.5:\n",
        "    print(\"교수님의 사랑\")\n",
        "elif 3.5<= score < 4.2:\n",
        "    print(\"현 체제의 수호자\")\n"
      ],
      "metadata": {
        "id": "EQ-P-PaDzeIT"
      },
      "execution_count": null,
      "outputs": []
    },
    {
      "cell_type": "code",
      "source": [
        "#유머를 조건문으로 구현하기_2\n",
        "\n",
        "#변수를 선언합니다\n",
        "score = float(input(\"학점을 입력하세요.> \"))\n",
        "\n",
        "#조건문을 적용합니다\n",
        "if score == 4.5:\n",
        "    print(\"신\")\n",
        "elif 4.2 <= score:\n",
        "    print(\"교수님의 사랑\")    \n",
        "elif 3.5<= score:\n",
        "    print(\"현 체제의 수호자\")    "
      ],
      "metadata": {
        "id": "prasLjgD0AWW"
      },
      "execution_count": null,
      "outputs": []
    },
    {
      "cell_type": "code",
      "source": [
        "#false로 변환되는 값\n",
        "\n",
        "print(\"#if 조건문에 0 넣기\")\n",
        "if 0:\n",
        "    print(\"0은 True로 변환됩니다.\")\n",
        "else:\n",
        "    print(\"0은 False로 변환됩니다.\")    \n",
        "    print()\n",
        "\n",
        "print(\"#if 조건문에 빈 문자열 넣기\")\n",
        "if \"\":\n",
        "    print(\"빈 문자열은 True로 변환됩니다.\")\n",
        "else:\n",
        "    print(\"빈 문자열은 False로 변환됩니다.\")    "
      ],
      "metadata": {
        "colab": {
          "base_uri": "https://localhost:8080/"
        },
        "id": "qF2vFtYJ0xp5",
        "outputId": "53d09d87-1a28-4417-f5b3-32a5b5cd9db6"
      },
      "execution_count": null,
      "outputs": [
        {
          "output_type": "stream",
          "name": "stdout",
          "text": [
            "#if 조건문에 0 넣기\n",
            "0은 False로 변환됩니다.\n",
            "\n",
            "#if 조건문에 빈 문자열 넣기\n",
            "빈 문자열은 False로 변환됩니다.\n"
          ]
        }
      ]
    },
    {
      "cell_type": "code",
      "source": [
        "#나중에 구현하려고 비워 둔 구문\n",
        "\n",
        "#입력을 받습니다.\n",
        "number = int(input(\"정수 입력> \"))\n",
        "\n",
        "#조건문 사용\n",
        "if number > 0:\n",
        "    #양수일 때: 아직 미구현 상태입니다\n",
        "else:\n",
        "    #음수일 때: 아직 미구현 상태입니다.\n",
        "    "
      ],
      "metadata": {
        "colab": {
          "base_uri": "https://localhost:8080/",
          "height": 138
        },
        "id": "ctwRFqiR4EWU",
        "outputId": "dc29db33-1d98-42d9-ee8b-5a43d7b4f2f9"
      },
      "execution_count": null,
      "outputs": [
        {
          "output_type": "error",
          "ename": "IndentationError",
          "evalue": "ignored",
          "traceback": [
            "\u001b[0;36m  File \u001b[0;32m\"<ipython-input-33-68bedeed772c>\"\u001b[0;36m, line \u001b[0;32m9\u001b[0m\n\u001b[0;31m    else:\u001b[0m\n\u001b[0m       ^\u001b[0m\n\u001b[0;31mIndentationError\u001b[0m\u001b[0;31m:\u001b[0m expected an indented block\n"
          ]
        }
      ]
    },
    {
      "cell_type": "code",
      "source": [
        "#나중에 구현하려고 비워 둔 구문\n",
        "\n",
        "#입력을 받습니다.\n",
        "number = int(input(\"정수 입력> \"))\n",
        "\n",
        "#조건문 사용\n",
        "if number > 0:\n",
        "    #양수일 때: 아직 미구현 상태입니다\n",
        "    pass\n",
        "else:\n",
        "    #음수일 때: 아직 미구현 상태입니다.\n",
        "    pass"
      ],
      "metadata": {
        "colab": {
          "base_uri": "https://localhost:8080/"
        },
        "id": "XnGELryd4iZp",
        "outputId": "65c6835c-db40-4e43-b8e5-1b1cad44df89"
      },
      "execution_count": null,
      "outputs": [
        {
          "name": "stdout",
          "output_type": "stream",
          "text": [
            "정수 입력> 2\n"
          ]
        }
      ]
    },
    {
      "cell_type": "code",
      "source": [
        "list_a = [1, 5, \"a\"]\n"
      ],
      "metadata": {
        "colab": {
          "base_uri": "https://localhost:8080/",
          "height": 213
        },
        "id": "5OALANpl4lcZ",
        "outputId": "aeea6c43-30fa-44e8-eafa-c9980d8585b9"
      },
      "execution_count": null,
      "outputs": [
        {
          "output_type": "error",
          "ename": "AttributeError",
          "evalue": "ignored",
          "traceback": [
            "\u001b[0;31m---------------------------------------------------------------------------\u001b[0m",
            "\u001b[0;31mAttributeError\u001b[0m                            Traceback (most recent call last)",
            "\u001b[0;32m<ipython-input-36-1587e8dc3435>\u001b[0m in \u001b[0;36m<module>\u001b[0;34m\u001b[0m\n\u001b[1;32m      1\u001b[0m \u001b[0mlist_a\u001b[0m \u001b[0;34m=\u001b[0m \u001b[0;34m[\u001b[0m\u001b[0;36m1\u001b[0m\u001b[0;34m,\u001b[0m \u001b[0;36m5\u001b[0m\u001b[0;34m,\u001b[0m \u001b[0;34m\"a\"\u001b[0m\u001b[0;34m]\u001b[0m\u001b[0;34m\u001b[0m\u001b[0;34m\u001b[0m\u001b[0m\n\u001b[1;32m      2\u001b[0m \u001b[0;34m\u001b[0m\u001b[0m\n\u001b[0;32m----> 3\u001b[0;31m \u001b[0mlist_a\u001b[0m\u001b[0;34m.\u001b[0m\u001b[0mformat\u001b[0m\u001b[0;34m[\u001b[0m\u001b[0;36m2\u001b[0m\u001b[0;34m]\u001b[0m\u001b[0;34m\u001b[0m\u001b[0;34m\u001b[0m\u001b[0m\n\u001b[0m",
            "\u001b[0;31mAttributeError\u001b[0m: 'list' object has no attribute 'format'"
          ]
        }
      ]
    }
  ]
}