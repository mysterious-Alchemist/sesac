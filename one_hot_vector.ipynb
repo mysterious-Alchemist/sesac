{
  "nbformat": 4,
  "nbformat_minor": 0,
  "metadata": {
    "colab": {
      "name": "one_hot_vector",
      "provenance": [],
      "collapsed_sections": [],
      "authorship_tag": "ABX9TyPBp1CZ5sQgNFRSFaIJwZY/"
    },
    "kernelspec": {
      "name": "python3",
      "display_name": "Python 3"
    },
    "language_info": {
      "name": "python"
    }
  },
  "cells": [
    {
      "cell_type": "code",
      "execution_count": 35,
      "metadata": {
        "id": "FwC7KbALiJP8"
      },
      "outputs": [],
      "source": [
        "word_list= [\"원숭이\", \"사과\", \"바나나\" , \"코끼리\", \"코끼리\", \"개\"]"
      ]
    },
    {
      "cell_type": "code",
      "source": [
        "#단어별 인덱스 지정\n",
        "from collections import defaultdict\n",
        "import numpy as np\n",
        "\n",
        "def one_hot_encoding(word_list):\n",
        "    word2id_dic = defaultdict(lambda:len(word2id_dic))\n",
        "\n",
        "    for w in word_list :\n",
        "        word2id_dic[w]\n",
        "    #고유한 단어 수 \n",
        "    n_unique_words = len(word2id_dic)\n",
        "    one_hot_vectors = np.zeros((len(word_list), n_unique_words))\n",
        "    #원핫 백터 생성\n",
        "    for i, w in enumerate(word_list) :\n",
        "        index = word2id_dic[w]\n",
        "        one_hot_vectors[i , index] = 1\n",
        "\n",
        "    return one_hot_vectors"
      ],
      "metadata": {
        "id": "WYoDc1hyaJbv"
      },
      "execution_count": 33,
      "outputs": []
    },
    {
      "cell_type": "code",
      "source": [
        "one_hot_encoding(word_list)"
      ],
      "metadata": {
        "colab": {
          "base_uri": "https://localhost:8080/"
        },
        "id": "WdgYSd1ealdV",
        "outputId": "81a9a317-364d-460f-fbcf-16e16891b89b"
      },
      "execution_count": 36,
      "outputs": [
        {
          "output_type": "execute_result",
          "data": {
            "text/plain": [
              "array([[1., 0., 0., 0., 0.],\n",
              "       [0., 1., 0., 0., 0.],\n",
              "       [0., 0., 1., 0., 0.],\n",
              "       [0., 0., 0., 1., 0.],\n",
              "       [0., 0., 0., 1., 0.],\n",
              "       [0., 0., 0., 0., 1.]])"
            ]
          },
          "metadata": {},
          "execution_count": 36
        }
      ]
    },
    {
      "cell_type": "code",
      "source": [
        "from sklearn.preprocessing import LabelEncoder , OneHotEncoder\n",
        "def one_hot_encoding_sklearn(word_list):\n",
        "    #문자에 숫자를 부여\n",
        "    label_enc = LabelEncoder()\n",
        "    int_enc = label_enc.fit_transform(word_list)\n",
        "    #원핫인코딩\n",
        "    onehot_enc = OneHotEncoder(sparse = False)\n",
        "    int_enc = int_enc.reshape(len(int_enc), 1)\n",
        "    onehot_vectors = onehot_enc.fit_transform(int_enc)\n",
        "    return onehot_vectors"
      ],
      "metadata": {
        "id": "F-JMJQhqUGUn"
      },
      "execution_count": 57,
      "outputs": []
    },
    {
      "cell_type": "code",
      "source": [
        "int_enc.reshape(len(int_enc), 1)\n",
        "#순서는 가나다 순"
      ],
      "metadata": {
        "colab": {
          "base_uri": "https://localhost:8080/"
        },
        "id": "b7rPFDeqU5sO",
        "outputId": "4a158526-15bd-45e5-c1a0-6be4e8252d34"
      },
      "execution_count": 58,
      "outputs": [
        {
          "output_type": "execute_result",
          "data": {
            "text/plain": [
              "array([[3],\n",
              "       [2],\n",
              "       [1],\n",
              "       [4],\n",
              "       [4],\n",
              "       [0]])"
            ]
          },
          "metadata": {},
          "execution_count": 58
        }
      ]
    },
    {
      "cell_type": "code",
      "source": [
        "onehot_vectors"
      ],
      "metadata": {
        "colab": {
          "base_uri": "https://localhost:8080/"
        },
        "id": "3xk_jIwad_Bj",
        "outputId": "4cf17e9b-dd54-4a2b-a06d-9353e753a110"
      },
      "execution_count": 67,
      "outputs": [
        {
          "output_type": "execute_result",
          "data": {
            "text/plain": [
              "array([[0., 0., 0., 1., 0.],\n",
              "       [0., 0., 1., 0., 0.],\n",
              "       [0., 1., 0., 0., 0.],\n",
              "       [0., 0., 0., 0., 1.],\n",
              "       [0., 0., 0., 0., 1.],\n",
              "       [1., 0., 0., 0., 0.]])"
            ]
          },
          "metadata": {},
          "execution_count": 67
        }
      ]
    },
    {
      "cell_type": "code",
      "source": [
        "word_embbedding_dic = {\n",
        "    \"사과\" : [1.0, 0.5],\n",
        "    \"바나나\" : [0.9, 1.2],\n",
        "    \"원숭이\" : [0.5, 1.5]\n",
        "}"
      ],
      "metadata": {
        "id": "FrCkGFrheo95"
      },
      "execution_count": 66,
      "outputs": []
    },
    {
      "cell_type": "code",
      "source": [
        "a = word_embbedding_dic[\"사과\"]\n",
        "b = word_embbedding_dic [\"바나나\"]\n",
        "\n",
        "def euclidean_diat(a, b):\n",
        "    x = np.array(a)\n",
        "    y = np.array(b)\n",
        "\n",
        "    return np.sqrt(np.sum((x-y)**2))\n"
      ],
      "metadata": {
        "id": "3MY9vibWi8wP"
      },
      "execution_count": 65,
      "outputs": []
    },
    {
      "cell_type": "code",
      "source": [
        "euclidean_diat(a, b)"
      ],
      "metadata": {
        "colab": {
          "base_uri": "https://localhost:8080/"
        },
        "id": "EUnXXO2mj0Oo",
        "outputId": "9f396ae7-0958-4765-e40d-d074d8acc07f"
      },
      "execution_count": 68,
      "outputs": [
        {
          "output_type": "execute_result",
          "data": {
            "text/plain": [
              "0.7071067811865475"
            ]
          },
          "metadata": {},
          "execution_count": 68
        }
      ]
    },
    {
      "cell_type": "code",
      "source": [
        "s1 = \"대부분의 원숭이는 바나나를 좋아합니다\"\n",
        "s2 = \"코주부 원숭이는 바나나를 싫어합니다\"\n",
        "\n",
        "#실제로 코주부 원숭이는 바나나를 먹으면 죽는다고 하네요. "
      ],
      "metadata": {
        "id": "dLdRhNoTj74z"
      },
      "execution_count": 71,
      "outputs": []
    },
    {
      "cell_type": "code",
      "source": [
        "def jaccard_index(s1 ,s2):\n",
        "    token_s1 = s1.split()\n",
        "    token_s2 = s2.split()\n",
        "\n",
        "    union = set(token_s1).union(set(token_s2))\n",
        "\n",
        "    intersection = set(token_s1).intersection(token_s2)\n",
        "\n",
        "    return len(intersection)/len(union)"
      ],
      "metadata": {
        "id": "TNz5H3owj77a"
      },
      "execution_count": 77,
      "outputs": []
    },
    {
      "cell_type": "code",
      "source": [
        "jaccard_index(s1 ,s2)"
      ],
      "metadata": {
        "colab": {
          "base_uri": "https://localhost:8080/"
        },
        "id": "BQkkjkhjlHCv",
        "outputId": "5f1d896e-6585-43ab-8b04-32ddad509fbb"
      },
      "execution_count": 76,
      "outputs": [
        {
          "output_type": "execute_result",
          "data": {
            "text/plain": [
              "0.3333333333333333"
            ]
          },
          "metadata": {},
          "execution_count": 76
        }
      ]
    },
    {
      "cell_type": "code",
      "source": [
        "def cosine_similarity(a, b):\n",
        "    n = np.dot(a, b)\n",
        "    d = np.linalg.norm(a) * np.linalg.norm(b)\n",
        "    return n / d\n"
      ],
      "metadata": {
        "id": "9SpamZf5lIMU"
      },
      "execution_count": 78,
      "outputs": []
    },
    {
      "cell_type": "code",
      "source": [
        "cosine_similarity(a, b)"
      ],
      "metadata": {
        "colab": {
          "base_uri": "https://localhost:8080/"
        },
        "id": "Ct8VjLz2lIPF",
        "outputId": "c9153677-0684-40dd-a811-9d325a59873b"
      },
      "execution_count": 79,
      "outputs": [
        {
          "output_type": "execute_result",
          "data": {
            "text/plain": [
              "0.8944271909999159"
            ]
          },
          "metadata": {},
          "execution_count": 79
        }
      ]
    },
    {
      "cell_type": "code",
      "source": [
        "euclidean_diat(word_embbedding_dic [\"바나나\"], b)"
      ],
      "metadata": {
        "colab": {
          "base_uri": "https://localhost:8080/"
        },
        "id": "cQPj0veilmSp",
        "outputId": "90911fa8-1b9f-4ee6-8304-f86fc2d47622"
      },
      "execution_count": 83,
      "outputs": [
        {
          "output_type": "execute_result",
          "data": {
            "text/plain": [
              "0.0"
            ]
          },
          "metadata": {},
          "execution_count": 83
        }
      ]
    },
    {
      "cell_type": "code",
      "source": [
        "cosine_similarity(word_embbedding_dic [\"바나나\"], b)"
      ],
      "metadata": {
        "colab": {
          "base_uri": "https://localhost:8080/"
        },
        "id": "eWBOuj4blmVm",
        "outputId": "fda350e7-98f9-49de-99b9-113d087fb397"
      },
      "execution_count": 84,
      "outputs": [
        {
          "output_type": "execute_result",
          "data": {
            "text/plain": [
              "1.0"
            ]
          },
          "metadata": {},
          "execution_count": 84
        }
      ]
    }
  ]
}