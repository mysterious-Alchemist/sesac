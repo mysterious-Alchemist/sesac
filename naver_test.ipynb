{
  "nbformat": 4,
  "nbformat_minor": 0,
  "metadata": {
    "colab": {
      "name": "naver_test",
      "provenance": [],
      "authorship_tag": "ABX9TyMnL+Lyzf0masMIIhrKR7yl"
    },
    "kernelspec": {
      "name": "python3",
      "display_name": "Python 3"
    },
    "language_info": {
      "name": "python"
    }
  },
  "cells": [
    {
      "cell_type": "code",
      "source": [
        "import requests\n",
        "from bs4 import BeautifulSoup\n",
        "\n",
        "\n",
        "url = \"https://n.news.naver.com/article/469/0000691862?cds=news_media_pc\"\n",
        "\n",
        "def get_naver_news(url) :\n",
        "    h = {'user-agent': 'Mozilla/5.0 (Macintosh; Intel Mac OS X 10_15_7) AppleWebKit/537.36 (KHTML, like Gecko) Chrome/95.0.4638.69 Safari/537.36'}\n",
        "    res = requests.get(url, headers = h)\n",
        "    bs = BeautifulSoup(res.content, 'html.parser')\n",
        "\n",
        "    date = bs.select(\"span.media_end_head_info_datestamp_time\")[0].text\n",
        "    title = bs.select('div.media_end_head_title')[0].get_text().replace('\\n','').replace('\\t','')\n",
        "    press_name = bs.select(\"div.media_end_head_top a img\")[0][\"title\"]\n",
        "    content = bs.select(\"div#dic_area\")[0].get_text().replace(\"\\n\", \"\").replace(\"\\t\", \"\")\n",
        "    reporter = bs.select(\"span.byline_s\")[0].text\n",
        "    return (date, title, press_name, content, reporter)\n",
        "\n",
        "get_naver_news(url)"
      ],
      "metadata": {
        "colab": {
          "base_uri": "https://localhost:8080/"
        },
        "id": "K1WJ7kKObL5E",
        "outputId": "7a57da5e-2feb-4179-95e2-a513341318f8"
      },
      "execution_count": 4,
      "outputs": [
        {
          "output_type": "execute_result",
          "data": {
            "text/plain": [
              "('2022.08.16. 오후 5:16',\n",
              " '검찰총장 후보 여환섭·김후곤·이두봉·이원석…모두 특수통',\n",
              " '한국일보',\n",
              " '서울 서초구 대검찰청 전경. 뉴스1검찰총장 후보추천위원회(위원장 김진태 전 검찰총장)가 16일 차기 검찰총장 후보로 여환섭(54) 법무연수원장, 김후곤(57) 서울고검장, 이두봉(58) 대전고검장, 이원석(53) 대검찰청 차장검사 등 4명을 추천했다. 후보추천위는 \"심도있는 논의를 거친 후 공정과 정의에 대한 확고한 의지를 갖고 검찰의 정치적 중립성과 공정성을 수호하며, 정의와 상식에 맞게 법을 집행할 후보자를 선정했다\"고 밝혔다. 한동훈 법무부 장관은 후보추천위 심사 내용을 검토한 뒤 이르면 17일 이들 중 한 명을 윤석열 대통령에게 최종 임명 제청할 전망이다.후보추천위는 비당연직 위원 4명과 당연직 위원 5명으로 구성됐다. 비당연직 위원으로는 위원장인 김진태 전 검찰총장과 권영준 경제정의실천시민연합 상임고문, 권준수 서울대 의과대학 교수, 이우영 서울대 법학전문대학원 교수가 참여했다. 당연직 위원은 김형두 법원행정처 차장, 이종엽 대한변호사협회장, 정영환 한국법학교수회장, 한기정 법학전문대학원 협의회 이사장, 신자용 법무부 검찰국장이다.',\n",
              " '이유지 기자 (maintain@hankookilbo.com)')"
            ]
          },
          "metadata": {},
          "execution_count": 4
        }
      ]
    },
    {
      "cell_type": "code",
      "execution_count": 1,
      "metadata": {
        "colab": {
          "base_uri": "https://localhost:8080/"
        },
        "id": "WPnlwpmlbCq2",
        "outputId": "7be2a0e4-ac1d-4db5-9731-18fa90320f70"
      },
      "outputs": [
        {
          "output_type": "execute_result",
          "data": {
            "text/plain": [
              "('꿈꾸는 개발자 데뷔코스, 새싹(SeSAC) 금천캠퍼스 2기 교육생 모집',\n",
              " '서울산업진흥원',\n",
              " \" 안녕하세요.서울산업진흥원 SBA입니다.서울특별시와 서울산업진흥원(SBA)은 디지털 경제로의 전환과 급속도로 수요가 증가되고 있는 SW전문 인력의 양성과 일자리 연계를 위해'새싹(SeSAC)'🌱을 운영하고 있습니다. 현재 새싹 금천캠퍼스 2기 1차교육생을 모집 중이니 많은 관심과 참여 바랍니다!🥳🥳 새싹(SeSAC, Seoul Software ACademy)이란?서울시에서 SW혁신인재의 ‘싹’을 틔우고 성장시켜 ‘SW개발자로 데뷔’할 수 있도록 돕는 교육브랜드입니다.새싹 금천캠퍼스 2기 교육생모집  새싹(SeSAC) 과정 소개✨'새싹' 과정 특징✨① 400개가 넘는 기업 현장에서실제 필요로 하는 과정과 커리큘럼을 구성② 검증된 교육기관과 현업 실전고수로부터무료로 전수받는 개발 역량③ 기본역량(분야-직무-스택)뿐만 아니라코드리뷰, 멘토링, 동료학습, 실전프로젝트를 통한 특화/응용역량 경험④ 과정 이후 현장 수요기업과 연결하여취업과정 적극 지원  구분분야과 정 명인원교육기간기관형AI최신 인공지능 자연어처리, 컴퓨터비전 기술을 활용한 응용 SW 개발자 양성 및 취·창업 연계 과정402022. 9 ~2023. 3.개인형앱코틀린 & Jetpack(MVVM) 기반 안드로이드 앱 개발자 양성과정102022. 9. ~ 2022. 12.AIPython을 활용한 실전 AI 모델 개발102022. 9. ~ 2023. 1.빅데이터파이썬/R 기반의 빅데이터 방법론을 활용한 데이터 분석 과정102022. 9. ~ 2022. 12. 🔸 교육생 선발 및 교육비 선발기본자격 확인 → 기초지식(레벨)테스트 → 면접※ 세부 사항은 각 교육운영 주체의 기준에 따라 개별 선발,이전 새싹 참여자도 1회 추가 참여 가능 (단, 2회 이상 참여는 불가능)교육비무료※ 단, 1인당 전체 교육비의 2% 예치금 선납하고 수료(교육 시간의 80% 이상 이수 또는 교육시간의 30% 이상 이수한 이후 조기취업)후 반환함* 예치금 규모기업/기관형- AI 1인당 200천원* 과정별 진도율 5% 미만 중도이탈 시 예치금 반환(수료 기준에 미달하는 경우 예치금은 반환되지 않음) 🔸 교육장소 새싹(SeSAC)  금천캠퍼스※ 기관형 AI과정의 경우 영등포 캠퍼스에서 교육 진행  청년취업사관학교 금천캠퍼스서울특별시 금천구 가산로 70 B동 모집 내용🔸접수기간2022. 7. 23.(토) ～ 8. 28.(일)까지🔸신청방법온라인 접수 새싹 홈페이지 회원가입 후, 새싹 교육 프로그램 내에서교육희망 과정 선택 수강신청(신청은 2개 이상 중복 신청 가능하나,같은 기수 내 최종 교육수강은 1개 과정에 한함)🌱새싹 홈페이지 바로가기🌱👇👇👇 꿈꾸는 개발자 데뷔코스, 새싹‘새싹’은 싹을 틔우기 위해 더 높은 곳을 향해 도전하고 한 단계 성장하여 기업과의 연결, 새로움을 추구하는 인재들의 공간입니다.sesac.seoul.kr   개발자 취·창업 희망하는 분들의많은 관심과 참여 바랍니다!!🙌   \")"
            ]
          },
          "metadata": {},
          "execution_count": 1
        }
      ],
      "source": [
        "import requests\n",
        "from bs4 import BeautifulSoup\n",
        "\n",
        "\n",
        "url = \"https://blog.naver.com/seoulsba/222849934941\"\n",
        "\n",
        "h = {'user-agent': 'Mozilla/5.0 (Macintosh; Intel Mac OS X 10_15_7) AppleWebKit/537.36 (KHTML, like Gecko) Chrome/95.0.4638.69 Safari/537.36'}\n",
        "res = requests.get(url, headers = h)\n",
        "bs = BeautifulSoup(res.content, 'html.parser')\n",
        "\n",
        "new_url = \"https://blog.naver.com/\" + bs.select(\"iframe\")[0]['src']\n",
        "\n",
        "\n",
        "def get_naver_blog(new_url):\n",
        "    res = requests.get(new_url, headers = h)\n",
        "    bs = BeautifulSoup(res.content, 'html.parser')\n",
        "    title = bs.select(\"span#SE-529d1dda-090b-4938-88a8-e44bd92c3c44\")[0].text\n",
        "    writer = bs.select(\"span.nick\")[0].text\n",
        "    content = bs.select(\"div.se-main-container\")[0].get_text().replace(\"\\n\",\"\").replace(\"\\t\", \"\").replace(\"\\u200b\", \"\")\n",
        "    return (title, writer, content)\n",
        "    \n",
        "get_naver_blog(new_url) "
      ]
    }
  ]
}